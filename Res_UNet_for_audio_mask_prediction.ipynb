{
  "nbformat": 4,
  "nbformat_minor": 0,
  "metadata": {
    "colab": {
      "provenance": [],
      "gpuType": "T4",
      "authorship_tag": "ABX9TyMx1al11nmILeBnaTgrx6+Z",
      "include_colab_link": true
    },
    "kernelspec": {
      "name": "python3",
      "display_name": "Python 3"
    },
    "language_info": {
      "name": "python"
    },
    "accelerator": "GPU"
  },
  "cells": [
    {
      "cell_type": "markdown",
      "metadata": {
        "id": "view-in-github",
        "colab_type": "text"
      },
      "source": [
        "<a href=\"https://colab.research.google.com/github/JerinJoe/Res-Unet-for-Audio-Mask-Prediction/blob/main/Res_UNet_for_audio_mask_prediction.ipynb\" target=\"_parent\"><img src=\"https://colab.research.google.com/assets/colab-badge.svg\" alt=\"Open In Colab\"/></a>"
      ]
    },
    {
      "cell_type": "code",
      "execution_count": 1,
      "metadata": {
        "colab": {
          "base_uri": "https://localhost:8080/"
        },
        "id": "GEgEk4X35dAC",
        "outputId": "6002aecd-d099-44ae-f4fd-7410a9618302"
      },
      "outputs": [
        {
          "output_type": "stream",
          "name": "stdout",
          "text": [
            "Mounted at /content/gdrive\n"
          ]
        }
      ],
      "source": [
        "from google.colab import drive\n",
        "drive.mount('/content/gdrive')"
      ]
    },
    {
      "cell_type": "code",
      "source": [
        "!git clone https://github.com/fgnt/bsseval.git"
      ],
      "metadata": {
        "colab": {
          "base_uri": "https://localhost:8080/"
        },
        "id": "rDjHDxRqCio4",
        "outputId": "dce9af45-7c50-4f59-b5b3-9148d46509a7"
      },
      "execution_count": 5,
      "outputs": [
        {
          "output_type": "stream",
          "name": "stdout",
          "text": [
            "Cloning into 'bsseval'...\n",
            "fatal: could not read Username for 'https://github.com': No such device or address\n"
          ]
        }
      ]
    },
    {
      "cell_type": "code",
      "source": [
        "!pip install bsseval -q"
      ],
      "metadata": {
        "colab": {
          "base_uri": "https://localhost:8080/"
        },
        "id": "ORgMDwT1Brqj",
        "outputId": "06859b58-523d-46dd-8816-3532b04bd861"
      },
      "execution_count": 2,
      "outputs": [
        {
          "output_type": "stream",
          "name": "stdout",
          "text": [
            "\u001b[31mERROR: Could not find a version that satisfies the requirement bsseval (from versions: none)\u001b[0m\u001b[31m\n",
            "\u001b[0m\u001b[31mERROR: No matching distribution found for bsseval\u001b[0m\u001b[31m\n",
            "\u001b[0m"
          ]
        }
      ]
    },
    {
      "cell_type": "code",
      "source": [
        "import torch\n",
        "from torch.nn import functional as F\n",
        "import torch.nn as nn\n",
        "import librosa\n",
        "import librosa.display\n",
        "import matplotlib.pyplot as plt\n",
        "from bsseval import bss_eval_sources\n",
        "import numpy as np\n",
        "import zipfile\n",
        "from torch.utils.data import Dataset, DataLoader"
      ],
      "metadata": {
        "colab": {
          "base_uri": "https://localhost:8080/",
          "height": 383
        },
        "id": "uQ2cc2GM570K",
        "outputId": "7994e8a3-963c-4341-f708-2a9463e044ab"
      },
      "execution_count": 1,
      "outputs": [
        {
          "output_type": "error",
          "ename": "ModuleNotFoundError",
          "evalue": "No module named 'bsseval'",
          "traceback": [
            "\u001b[0;31m---------------------------------------------------------------------------\u001b[0m",
            "\u001b[0;31mModuleNotFoundError\u001b[0m                       Traceback (most recent call last)",
            "\u001b[0;32m<ipython-input-1-850ea0a87364>\u001b[0m in \u001b[0;36m<cell line: 7>\u001b[0;34m()\u001b[0m\n\u001b[1;32m      5\u001b[0m \u001b[0;32mimport\u001b[0m \u001b[0mlibrosa\u001b[0m\u001b[0;34m.\u001b[0m\u001b[0mdisplay\u001b[0m\u001b[0;34m\u001b[0m\u001b[0;34m\u001b[0m\u001b[0m\n\u001b[1;32m      6\u001b[0m \u001b[0;32mimport\u001b[0m \u001b[0mmatplotlib\u001b[0m\u001b[0;34m.\u001b[0m\u001b[0mpyplot\u001b[0m \u001b[0;32mas\u001b[0m \u001b[0mplt\u001b[0m\u001b[0;34m\u001b[0m\u001b[0;34m\u001b[0m\u001b[0m\n\u001b[0;32m----> 7\u001b[0;31m \u001b[0;32mfrom\u001b[0m \u001b[0mbsseval\u001b[0m \u001b[0;32mimport\u001b[0m \u001b[0mbss_eval_sources\u001b[0m\u001b[0;34m\u001b[0m\u001b[0;34m\u001b[0m\u001b[0m\n\u001b[0m\u001b[1;32m      8\u001b[0m \u001b[0;32mimport\u001b[0m \u001b[0mnumpy\u001b[0m \u001b[0;32mas\u001b[0m \u001b[0mnp\u001b[0m\u001b[0;34m\u001b[0m\u001b[0;34m\u001b[0m\u001b[0m\n\u001b[1;32m      9\u001b[0m \u001b[0;32mimport\u001b[0m \u001b[0mzipfile\u001b[0m\u001b[0;34m\u001b[0m\u001b[0;34m\u001b[0m\u001b[0m\n",
            "\u001b[0;31mModuleNotFoundError\u001b[0m: No module named 'bsseval'",
            "",
            "\u001b[0;31m---------------------------------------------------------------------------\u001b[0;32m\nNOTE: If your import is failing due to a missing package, you can\nmanually install dependencies using either !pip or !apt.\n\nTo view examples of installing some common dependencies, click the\n\"Open Examples\" button below.\n\u001b[0;31m---------------------------------------------------------------------------\u001b[0m\n"
          ],
          "errorDetails": {
            "actions": [
              {
                "action": "open_url",
                "actionText": "Open Examples",
                "url": "/notebooks/snippets/importing_libraries.ipynb"
              }
            ]
          }
        }
      ]
    },
    {
      "cell_type": "code",
      "source": [
        "class ResidualBlock(nn.Module):\n",
        "    def __init__(self, in_channels, out_channels):\n",
        "        super(ResidualBlock, self).__init__()\n",
        "        self.conv1 = nn.Conv1d(in_channels, out_channels, kernel_size=3, padding=1)\n",
        "        self.conv2 = nn.Conv1d(out_channels, out_channels, kernel_size=3, padding=1)\n",
        "        self.relu = nn.ReLU(inplace=True)\n",
        "\n",
        "    def forward(self, x):\n",
        "        residual = x\n",
        "        out = self.relu(self.conv1(x))\n",
        "        out = self.conv2(out)\n",
        "        out += residual\n",
        "        out = self.relu(out)\n",
        "        return out\n",
        "\n",
        "class ResUNet(nn.Module):\n",
        "    def __init__(self, num_sources):\n",
        "        super(ResUNet, self).__init__()\n",
        "        self.encoder = nn.Sequential(\n",
        "            nn.Conv1d(4, 64, kernel_size=3, padding=1),  # 4 input channels for MUSDB18\n",
        "            ResidualBlock(64, 64),\n",
        "            nn.MaxPool1d(2),\n",
        "            ResidualBlock(64, 64),\n",
        "            nn.MaxPool1d(2),\n",
        "            ResidualBlock(64, 64)\n",
        "        )\n",
        "        # Masking layer added after the encoder\n",
        "        self.mask_layer = nn.Conv1d(64, num_sources * 64, kernel_size=1)\n",
        "\n",
        "    def forward(self, x):\n",
        "        x = self.encoder(x)\n",
        "        # Apply masking layer after encoder output\n",
        "        masks = self.mask_layer(x).sigmoid()  # Sigmoid for masks between 0 and\n"
      ],
      "metadata": {
        "id": "RNRIc3rp598f"
      },
      "execution_count": null,
      "outputs": []
    },
    {
      "cell_type": "code",
      "source": [
        "class MUSDB18Dataset(Dataset):\n",
        "    def __init__(self, zip_path, subset='train'):\n",
        "        self.zip_path = zip_path\n",
        "        self.subset = subset\n",
        "        self.zip_ref = zipfile.ZipFile(zip_path, 'r')  # Open zip file\n",
        "\n",
        "    def __len__(self):\n",
        "        # Assuming 100 mixtures for training or test based on subset\n",
        "        num_mixtures = 100 if self.subset == 'train' else 50  # Modify if different\n",
        "        return num_mixtures\n",
        "\n",
        "    def __getitem__(self, idx):\n",
        "        with self.zip_ref.open(f'{self.subset}/mix_{idx+1}.wav', 'r') as mix_file:  # Open mixture from zip\n",
        "            mix, _ = librosa.load(mix_file, sr=44100)\n",
        "\n",
        "        # Assuming sources are stored in separate files within the zip (modify if structure differs)\n",
        "        sources = []\n",
        "        for i in range(1, 5):  # Assuming 4 sources (modify for different numbers)\n",
        "            with self.zip_ref.open(f'{self.subset}/sources/s{i}.wav', 'r') as source_file:\n",
        "                source, _ = librosa.load(source_file, sr=44100)\n",
        "                sources.append(source)\n",
        "\n",
        "        # Preprocess: Convert to spectrogram (or mel-spectrogram if desired)\n",
        "        mix_spec = librosa.stft(mix, n_per_side=256, hop_length=128)\n",
        "        source_specs = [librosa.stft(s, n_per_side=256, hop_length=128) for s in sources]\n",
        "\n",
        "        # Stack mixture and source spectrograms (or mel-spectrograms)\n",
        "        spec = np.concatenate([np.abs(mix_spec), np.abs(source_specs[0]), np.abs(source_specs[1]), np.abs(source_specs[2]), np.abs(source_specs[3])], axis=0)\n",
        "\n",
        "        return spec, sources  # Return mixture spectrogram and source waveforms"
      ],
      "metadata": {
        "id": "Aa8JWhNJ5_bB"
      },
      "execution_count": null,
      "outputs": []
    },
    {
      "cell_type": "code",
      "source": [
        "# Assuming zip_path points to the downloaded MUSDB18 zip file in Google Drive\n",
        "zip_path = '/content/drive/MyDrive/musdb18.zip'  # Replace with your path"
      ],
      "metadata": {
        "id": "m9offR4Q6Em2"
      },
      "execution_count": null,
      "outputs": []
    },
    {
      "cell_type": "code",
      "source": [
        "# Define number of epochs\n",
        "\n",
        "# Define hyperparameters (adjust as needed)\n",
        "num_epochs = 10\n",
        "learning_rate = 0.001\n",
        "batch_size = 8\n",
        "\n",
        "def train(model, train_loader, optimizer, loss_fn):\n",
        "  model.train()  # Set model to training mode\n",
        "  for epoch in range(num_epochs):\n",
        "    print(f'Epoch: {epoch+1}/{num_epochs}')\n",
        "    for data, _ in train_loader:  # Ignore target sources (we only need mixture)\n",
        "      # Forward pass\n",
        "      predicted_masks = model(data)  # Pass mixture spectrograms through the model\n",
        "\n",
        "      # Calculate loss (assuming Mean Squared Error)\n",
        "      loss = loss_fn(predicted_masks, torch.zeros_like(predicted_masks))\n",
        "\n",
        "      # Backward pass and parameter update\n",
        "      optimizer.zero_grad()\n",
        "      loss.backward()\n",
        "      optimizer.step()\n",
        "\n",
        "    # Print training loss (optional)\n",
        "    print(f'Training Loss: {loss.item():.4f}')"
      ],
      "metadata": {
        "id": "Dur0WNEb6A_W"
      },
      "execution_count": null,
      "outputs": []
    },
    {
      "cell_type": "code",
      "source": [
        "def evaluate(model, test_loader):\n",
        "  model.eval()  # Set model to evaluation mode\n",
        "  predicted_masks = []\n",
        "  with torch.no_grad():  # Disable gradient calculation for efficiency\n",
        "    for data, _ in test_loader:\n",
        "      predicted_batch_masks = model(data)  # Predict masks for test mixture spectrograms\n",
        "      predicted_masks.extend(predicted_batch_masks.cpu().numpy())\n",
        "  return predicted_masks"
      ],
      "metadata": {
        "id": "DOBhDffC6DIs"
      },
      "execution_count": null,
      "outputs": []
    },
    {
      "cell_type": "code",
      "source": [
        "# Create datasets and loaders\n",
        "train_dataset = MUSDB18Dataset(zip_path, subset='train')\n",
        "test_dataset = MUSDB18Dataset(zip_path, subset='test')\n",
        "train_loader = DataLoader(train_dataset, batch_size=batch_size, shuffle=True)\n",
        "test_loader = DataLoader(test_dataset, batch_size=batch_size, shuffle=False)\n"
      ],
      "metadata": {
        "id": "YERWDtzn6HcZ"
      },
      "execution_count": null,
      "outputs": []
    },
    {
      "cell_type": "code",
      "source": [
        "# Create model, optimizer, and loss function\n",
        "model = ResUNet(num_sources=4)  # Assuming 4 sources\n",
        "optimizer = torch.optim.Adam(model.parameters(), lr=learning_rate)\n",
        "loss_fn = nn.MSELoss()"
      ],
      "metadata": {
        "id": "AsG4uLJZ6ItW"
      },
      "execution_count": null,
      "outputs": []
    },
    {
      "cell_type": "code",
      "source": [
        "# Train the model\n",
        "train(model, train_loader, optimizer, loss_fn)"
      ],
      "metadata": {
        "id": "9ljRlGvJ6Rd6"
      },
      "execution_count": null,
      "outputs": []
    },
    {
      "cell_type": "code",
      "source": [
        "# Evaluate on the test set and get predicted masks\n",
        "predicted_masks = evaluate(model, test_loader)"
      ],
      "metadata": {
        "id": "Mq8CyObN6S1n"
      },
      "execution_count": null,
      "outputs": []
    },
    {
      "cell_type": "code",
      "source": [
        "# Load ground truth sources (assuming available)\n",
        "ground_truth_sources = []  # List to store ground truth sources\n",
        "for i in range(len(test_dataset)):\n",
        "  source_paths = [os.path.join(test_dataset.root, f'sources/s{i+1}.wav')]  # Modify path if different\n",
        "  ground_truth_sources.append([librosa.load(path, sr=44100)[0] for path in source_paths])\n",
        "\n",
        "# Prepare predicted and ground truth sources for bsseval\n",
        "predicted_sources = []\n",
        "for batch_masks in predicted_masks:\n",
        "  for mask in batch_masks:\n",
        "    predicted_sources.append(mask * test_dataset[i][0])  # Assuming mixture in test_dataset\n",
        "\n",
        "# Calculate SDR, SIR using bsseval\n",
        "image_id = 0  # Assuming each test sample has a unique ID\n",
        "\n",
        "audio_sr = 44100  # Assuming sampling rate of 44100 Hz\n",
        "results = bss_eval_sources(ground_truth_sources, predicted_sources, eval_SDR=True, eval_SIR=True)\n",
        "\n",
        "# Print SDR, SIR results\n",
        "print(f'SDR results (dB): {results[0]}')\n",
        "print(f'SIR results (dB): {results[1]}')\n",
        "\n",
        "# Visualization (example for the first test sample)\n",
        "mixture_spec = librosa.stft(test_dataset[0][0], n_per_side=256, hop_length=128)\n",
        "predicted_mask_1 = predicted_masks[0][0]  # Assuming first mask in first batch\n",
        "predicted_source_1 = predicted_mask_1 * mixture_spec\n",
        "\n",
        "fig, axes = plt.subplots(3, 1, figsize=(10, 6))\n",
        "\n",
        "# Mixture spectrogram\n",
        "librosa.display.specshow(librosa.db(mixture_spec.T), x_axis='time', y_axis='log', sr=audio_sr, ax=axes[0])\n",
        "axes[0].set_title('Mixture Spectrogram')\n",
        "axes[0].set_ylim([None, 80])\n",
        "\n",
        "# Predicted source 1 spectrogram\n",
        "librosa.display.specshow(librosa.db(predicted_source_1.T), x_axis='time', y_axis='log', sr=audio_sr, ax=axes[1])\n",
        "axes[1].set_title('Predicted Source 1 Spectrogram')\n",
        "axes[1].set_ylim([None, 80])\n",
        "\n",
        "# Ground truth source 1 spectrogram (if available)\n",
        "if ground_truth_sources:\n",
        "  ground_truth_spec_1 = librosa.stft(ground_truth_sources[0][0], n_per_side=256, hop_length=128)\n",
        "  librosa.display.specshow(librosa.db(ground_truth_spec_1.T), x_axis='time', y_axis='log', sr=audio_sr, ax=axes[2])\n",
        "  axes[2].set_title('Ground Truth Source 1 Spectrogram')\n",
        "  axes[2].set_ylim([None, 80])\n",
        "\n",
        "fig.tight_layout()\n",
        "plt.show()\n",
        "\n",
        "print(f'Visualizations created for test sample {image_id+1}')"
      ],
      "metadata": {
        "id": "vk2Ll7rE6Xru"
      },
      "execution_count": null,
      "outputs": []
    }
  ]
}